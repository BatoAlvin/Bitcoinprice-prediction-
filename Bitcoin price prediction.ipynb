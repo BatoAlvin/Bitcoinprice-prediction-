{
 "cells": [
  {
   "cell_type": "code",
   "execution_count": 1,
   "metadata": {},
   "outputs": [],
   "source": [
    "#Installing dependencies\n",
    "import pandas as pd\n",
    "import seaborn as sns\n",
    "import numpy as np\n",
    "\n",
    "\n"
   ]
  },
  {
   "cell_type": "code",
   "execution_count": 2,
   "metadata": {},
   "outputs": [
    {
     "data": {
      "text/html": [
       "<div>\n",
       "<style scoped>\n",
       "    .dataframe tbody tr th:only-of-type {\n",
       "        vertical-align: middle;\n",
       "    }\n",
       "\n",
       "    .dataframe tbody tr th {\n",
       "        vertical-align: top;\n",
       "    }\n",
       "\n",
       "    .dataframe thead th {\n",
       "        text-align: right;\n",
       "    }\n",
       "</style>\n",
       "<table border=\"1\" class=\"dataframe\">\n",
       "  <thead>\n",
       "    <tr style=\"text-align: right;\">\n",
       "      <th></th>\n",
       "      <th>Date</th>\n",
       "      <th>Open</th>\n",
       "      <th>High</th>\n",
       "      <th>Low</th>\n",
       "      <th>Close</th>\n",
       "      <th>Volume</th>\n",
       "      <th>Market Cap</th>\n",
       "    </tr>\n",
       "  </thead>\n",
       "  <tbody>\n",
       "    <tr>\n",
       "      <th>0</th>\n",
       "      <td>Aug 07, 2017</td>\n",
       "      <td>3212.78</td>\n",
       "      <td>3397.68</td>\n",
       "      <td>3180.89</td>\n",
       "      <td>3378.94</td>\n",
       "      <td>1,482,280,000</td>\n",
       "      <td>52,987,300,000</td>\n",
       "    </tr>\n",
       "    <tr>\n",
       "      <th>1</th>\n",
       "      <td>Aug 06, 2017</td>\n",
       "      <td>3257.61</td>\n",
       "      <td>3293.29</td>\n",
       "      <td>3155.60</td>\n",
       "      <td>3213.94</td>\n",
       "      <td>1,105,030,000</td>\n",
       "      <td>53,720,900,000</td>\n",
       "    </tr>\n",
       "    <tr>\n",
       "      <th>2</th>\n",
       "      <td>Aug 05, 2017</td>\n",
       "      <td>2897.63</td>\n",
       "      <td>3290.01</td>\n",
       "      <td>2874.83</td>\n",
       "      <td>3252.91</td>\n",
       "      <td>1,945,700,000</td>\n",
       "      <td>47,778,200,000</td>\n",
       "    </tr>\n",
       "    <tr>\n",
       "      <th>3</th>\n",
       "      <td>Aug 04, 2017</td>\n",
       "      <td>2806.93</td>\n",
       "      <td>2899.33</td>\n",
       "      <td>2743.72</td>\n",
       "      <td>2895.89</td>\n",
       "      <td>1,002,120,000</td>\n",
       "      <td>46,276,200,000</td>\n",
       "    </tr>\n",
       "    <tr>\n",
       "      <th>4</th>\n",
       "      <td>Aug 03, 2017</td>\n",
       "      <td>2709.56</td>\n",
       "      <td>2813.31</td>\n",
       "      <td>2685.14</td>\n",
       "      <td>2804.73</td>\n",
       "      <td>804,797,000</td>\n",
       "      <td>44,666,400,000</td>\n",
       "    </tr>\n",
       "    <tr>\n",
       "      <th>5</th>\n",
       "      <td>Aug 02, 2017</td>\n",
       "      <td>2727.13</td>\n",
       "      <td>2762.53</td>\n",
       "      <td>2668.59</td>\n",
       "      <td>2710.67</td>\n",
       "      <td>1,094,950,000</td>\n",
       "      <td>44,950,800,000</td>\n",
       "    </tr>\n",
       "    <tr>\n",
       "      <th>6</th>\n",
       "      <td>Aug 01, 2017</td>\n",
       "      <td>2871.30</td>\n",
       "      <td>2921.35</td>\n",
       "      <td>2685.61</td>\n",
       "      <td>2718.26</td>\n",
       "      <td>1,324,670,000</td>\n",
       "      <td>47,321,800,000</td>\n",
       "    </tr>\n",
       "  </tbody>\n",
       "</table>\n",
       "</div>"
      ],
      "text/plain": [
       "           Date     Open     High      Low    Close         Volume  \\\n",
       "0  Aug 07, 2017  3212.78  3397.68  3180.89  3378.94  1,482,280,000   \n",
       "1  Aug 06, 2017  3257.61  3293.29  3155.60  3213.94  1,105,030,000   \n",
       "2  Aug 05, 2017  2897.63  3290.01  2874.83  3252.91  1,945,700,000   \n",
       "3  Aug 04, 2017  2806.93  2899.33  2743.72  2895.89  1,002,120,000   \n",
       "4  Aug 03, 2017  2709.56  2813.31  2685.14  2804.73    804,797,000   \n",
       "5  Aug 02, 2017  2727.13  2762.53  2668.59  2710.67  1,094,950,000   \n",
       "6  Aug 01, 2017  2871.30  2921.35  2685.61  2718.26  1,324,670,000   \n",
       "\n",
       "       Market Cap  \n",
       "0  52,987,300,000  \n",
       "1  53,720,900,000  \n",
       "2  47,778,200,000  \n",
       "3  46,276,200,000  \n",
       "4  44,666,400,000  \n",
       "5  44,950,800,000  \n",
       "6  47,321,800,000  "
      ]
     },
     "execution_count": 2,
     "metadata": {},
     "output_type": "execute_result"
    }
   ],
   "source": [
    "data = pd.read_csv('bitcoin_price_1week_Test - Test.csv')\n",
    "data"
   ]
  },
  {
   "cell_type": "code",
   "execution_count": 3,
   "metadata": {},
   "outputs": [
    {
     "data": {
      "text/html": [
       "<div>\n",
       "<style scoped>\n",
       "    .dataframe tbody tr th:only-of-type {\n",
       "        vertical-align: middle;\n",
       "    }\n",
       "\n",
       "    .dataframe tbody tr th {\n",
       "        vertical-align: top;\n",
       "    }\n",
       "\n",
       "    .dataframe thead th {\n",
       "        text-align: right;\n",
       "    }\n",
       "</style>\n",
       "<table border=\"1\" class=\"dataframe\">\n",
       "  <thead>\n",
       "    <tr style=\"text-align: right;\">\n",
       "      <th></th>\n",
       "      <th>Date</th>\n",
       "      <th>Open</th>\n",
       "      <th>High</th>\n",
       "      <th>Low</th>\n",
       "      <th>Close</th>\n",
       "      <th>Volume</th>\n",
       "      <th>Market Cap</th>\n",
       "    </tr>\n",
       "  </thead>\n",
       "  <tbody>\n",
       "    <tr>\n",
       "      <th>2</th>\n",
       "      <td>Aug 05, 2017</td>\n",
       "      <td>2897.63</td>\n",
       "      <td>3290.01</td>\n",
       "      <td>2874.83</td>\n",
       "      <td>3252.91</td>\n",
       "      <td>1,945,700,000</td>\n",
       "      <td>47,778,200,000</td>\n",
       "    </tr>\n",
       "    <tr>\n",
       "      <th>3</th>\n",
       "      <td>Aug 04, 2017</td>\n",
       "      <td>2806.93</td>\n",
       "      <td>2899.33</td>\n",
       "      <td>2743.72</td>\n",
       "      <td>2895.89</td>\n",
       "      <td>1,002,120,000</td>\n",
       "      <td>46,276,200,000</td>\n",
       "    </tr>\n",
       "    <tr>\n",
       "      <th>4</th>\n",
       "      <td>Aug 03, 2017</td>\n",
       "      <td>2709.56</td>\n",
       "      <td>2813.31</td>\n",
       "      <td>2685.14</td>\n",
       "      <td>2804.73</td>\n",
       "      <td>804,797,000</td>\n",
       "      <td>44,666,400,000</td>\n",
       "    </tr>\n",
       "    <tr>\n",
       "      <th>5</th>\n",
       "      <td>Aug 02, 2017</td>\n",
       "      <td>2727.13</td>\n",
       "      <td>2762.53</td>\n",
       "      <td>2668.59</td>\n",
       "      <td>2710.67</td>\n",
       "      <td>1,094,950,000</td>\n",
       "      <td>44,950,800,000</td>\n",
       "    </tr>\n",
       "    <tr>\n",
       "      <th>6</th>\n",
       "      <td>Aug 01, 2017</td>\n",
       "      <td>2871.30</td>\n",
       "      <td>2921.35</td>\n",
       "      <td>2685.61</td>\n",
       "      <td>2718.26</td>\n",
       "      <td>1,324,670,000</td>\n",
       "      <td>47,321,800,000</td>\n",
       "    </tr>\n",
       "  </tbody>\n",
       "</table>\n",
       "</div>"
      ],
      "text/plain": [
       "           Date     Open     High      Low    Close         Volume  \\\n",
       "2  Aug 05, 2017  2897.63  3290.01  2874.83  3252.91  1,945,700,000   \n",
       "3  Aug 04, 2017  2806.93  2899.33  2743.72  2895.89  1,002,120,000   \n",
       "4  Aug 03, 2017  2709.56  2813.31  2685.14  2804.73    804,797,000   \n",
       "5  Aug 02, 2017  2727.13  2762.53  2668.59  2710.67  1,094,950,000   \n",
       "6  Aug 01, 2017  2871.30  2921.35  2685.61  2718.26  1,324,670,000   \n",
       "\n",
       "       Market Cap  \n",
       "2  47,778,200,000  \n",
       "3  46,276,200,000  \n",
       "4  44,666,400,000  \n",
       "5  44,950,800,000  \n",
       "6  47,321,800,000  "
      ]
     },
     "execution_count": 3,
     "metadata": {},
     "output_type": "execute_result"
    }
   ],
   "source": [
    "data.tail()"
   ]
  },
  {
   "cell_type": "code",
   "execution_count": 5,
   "metadata": {},
   "outputs": [
    {
     "data": {
      "text/plain": [
       "Index(['Date', 'Open', 'High', 'Low', 'Close', 'Volume', 'Market Cap'], dtype='object')"
      ]
     },
     "execution_count": 5,
     "metadata": {},
     "output_type": "execute_result"
    }
   ],
   "source": [
    "data.columns"
   ]
  },
  {
   "cell_type": "code",
   "execution_count": 6,
   "metadata": {},
   "outputs": [
    {
     "data": {
      "text/plain": [
       "(7, 7)"
      ]
     },
     "execution_count": 6,
     "metadata": {},
     "output_type": "execute_result"
    }
   ],
   "source": [
    "data.shape"
   ]
  },
  {
   "cell_type": "code",
   "execution_count": 7,
   "metadata": {},
   "outputs": [
    {
     "data": {
      "text/html": [
       "<div>\n",
       "<style scoped>\n",
       "    .dataframe tbody tr th:only-of-type {\n",
       "        vertical-align: middle;\n",
       "    }\n",
       "\n",
       "    .dataframe tbody tr th {\n",
       "        vertical-align: top;\n",
       "    }\n",
       "\n",
       "    .dataframe thead th {\n",
       "        text-align: right;\n",
       "    }\n",
       "</style>\n",
       "<table border=\"1\" class=\"dataframe\">\n",
       "  <thead>\n",
       "    <tr style=\"text-align: right;\">\n",
       "      <th></th>\n",
       "      <th>Open</th>\n",
       "      <th>High</th>\n",
       "      <th>Low</th>\n",
       "      <th>Close</th>\n",
       "    </tr>\n",
       "  </thead>\n",
       "  <tbody>\n",
       "    <tr>\n",
       "      <th>count</th>\n",
       "      <td>7.000000</td>\n",
       "      <td>7.000000</td>\n",
       "      <td>7.000000</td>\n",
       "      <td>7.000000</td>\n",
       "    </tr>\n",
       "    <tr>\n",
       "      <th>mean</th>\n",
       "      <td>2926.134286</td>\n",
       "      <td>3053.928571</td>\n",
       "      <td>2856.340000</td>\n",
       "      <td>2996.477143</td>\n",
       "    </tr>\n",
       "    <tr>\n",
       "      <th>std</th>\n",
       "      <td>222.327835</td>\n",
       "      <td>263.148120</td>\n",
       "      <td>224.210701</td>\n",
       "      <td>278.478301</td>\n",
       "    </tr>\n",
       "    <tr>\n",
       "      <th>min</th>\n",
       "      <td>2709.560000</td>\n",
       "      <td>2762.530000</td>\n",
       "      <td>2668.590000</td>\n",
       "      <td>2710.670000</td>\n",
       "    </tr>\n",
       "    <tr>\n",
       "      <th>25%</th>\n",
       "      <td>2767.030000</td>\n",
       "      <td>2856.320000</td>\n",
       "      <td>2685.375000</td>\n",
       "      <td>2761.495000</td>\n",
       "    </tr>\n",
       "    <tr>\n",
       "      <th>50%</th>\n",
       "      <td>2871.300000</td>\n",
       "      <td>2921.350000</td>\n",
       "      <td>2743.720000</td>\n",
       "      <td>2895.890000</td>\n",
       "    </tr>\n",
       "    <tr>\n",
       "      <th>75%</th>\n",
       "      <td>3055.205000</td>\n",
       "      <td>3291.650000</td>\n",
       "      <td>3015.215000</td>\n",
       "      <td>3233.425000</td>\n",
       "    </tr>\n",
       "    <tr>\n",
       "      <th>max</th>\n",
       "      <td>3257.610000</td>\n",
       "      <td>3397.680000</td>\n",
       "      <td>3180.890000</td>\n",
       "      <td>3378.940000</td>\n",
       "    </tr>\n",
       "  </tbody>\n",
       "</table>\n",
       "</div>"
      ],
      "text/plain": [
       "              Open         High          Low        Close\n",
       "count     7.000000     7.000000     7.000000     7.000000\n",
       "mean   2926.134286  3053.928571  2856.340000  2996.477143\n",
       "std     222.327835   263.148120   224.210701   278.478301\n",
       "min    2709.560000  2762.530000  2668.590000  2710.670000\n",
       "25%    2767.030000  2856.320000  2685.375000  2761.495000\n",
       "50%    2871.300000  2921.350000  2743.720000  2895.890000\n",
       "75%    3055.205000  3291.650000  3015.215000  3233.425000\n",
       "max    3257.610000  3397.680000  3180.890000  3378.940000"
      ]
     },
     "execution_count": 7,
     "metadata": {},
     "output_type": "execute_result"
    }
   ],
   "source": [
    "data.describe()"
   ]
  },
  {
   "cell_type": "code",
   "execution_count": 8,
   "metadata": {},
   "outputs": [
    {
     "data": {
      "text/plain": [
       "Date          0\n",
       "Open          0\n",
       "High          0\n",
       "Low           0\n",
       "Close         0\n",
       "Volume        0\n",
       "Market Cap    0\n",
       "dtype: int64"
      ]
     },
     "execution_count": 8,
     "metadata": {},
     "output_type": "execute_result"
    }
   ],
   "source": [
    "#Checking for null values\n",
    "data.isnull().sum()"
   ]
  },
  {
   "cell_type": "code",
   "execution_count": 9,
   "metadata": {},
   "outputs": [
    {
     "data": {
      "text/html": [
       "<div>\n",
       "<style scoped>\n",
       "    .dataframe tbody tr th:only-of-type {\n",
       "        vertical-align: middle;\n",
       "    }\n",
       "\n",
       "    .dataframe tbody tr th {\n",
       "        vertical-align: top;\n",
       "    }\n",
       "\n",
       "    .dataframe thead th {\n",
       "        text-align: right;\n",
       "    }\n",
       "</style>\n",
       "<table border=\"1\" class=\"dataframe\">\n",
       "  <thead>\n",
       "    <tr style=\"text-align: right;\">\n",
       "      <th></th>\n",
       "      <th>Date</th>\n",
       "      <th>Open</th>\n",
       "      <th>High</th>\n",
       "      <th>Low</th>\n",
       "      <th>Close</th>\n",
       "      <th>Volume</th>\n",
       "      <th>Market Cap</th>\n",
       "    </tr>\n",
       "  </thead>\n",
       "  <tbody>\n",
       "    <tr>\n",
       "      <th>0</th>\n",
       "      <td>Aug 07, 2017</td>\n",
       "      <td>3212.78</td>\n",
       "      <td>3397.68</td>\n",
       "      <td>3180.89</td>\n",
       "      <td>3378.94</td>\n",
       "      <td>1,482,280,000</td>\n",
       "      <td>52,987,300,000</td>\n",
       "    </tr>\n",
       "    <tr>\n",
       "      <th>1</th>\n",
       "      <td>Aug 06, 2017</td>\n",
       "      <td>3257.61</td>\n",
       "      <td>3293.29</td>\n",
       "      <td>3155.60</td>\n",
       "      <td>3213.94</td>\n",
       "      <td>1,105,030,000</td>\n",
       "      <td>53,720,900,000</td>\n",
       "    </tr>\n",
       "    <tr>\n",
       "      <th>2</th>\n",
       "      <td>Aug 05, 2017</td>\n",
       "      <td>2897.63</td>\n",
       "      <td>3290.01</td>\n",
       "      <td>2874.83</td>\n",
       "      <td>3252.91</td>\n",
       "      <td>1,945,700,000</td>\n",
       "      <td>47,778,200,000</td>\n",
       "    </tr>\n",
       "    <tr>\n",
       "      <th>3</th>\n",
       "      <td>Aug 04, 2017</td>\n",
       "      <td>2806.93</td>\n",
       "      <td>2899.33</td>\n",
       "      <td>2743.72</td>\n",
       "      <td>2895.89</td>\n",
       "      <td>1,002,120,000</td>\n",
       "      <td>46,276,200,000</td>\n",
       "    </tr>\n",
       "    <tr>\n",
       "      <th>4</th>\n",
       "      <td>Aug 03, 2017</td>\n",
       "      <td>2709.56</td>\n",
       "      <td>2813.31</td>\n",
       "      <td>2685.14</td>\n",
       "      <td>2804.73</td>\n",
       "      <td>804,797,000</td>\n",
       "      <td>44,666,400,000</td>\n",
       "    </tr>\n",
       "  </tbody>\n",
       "</table>\n",
       "</div>"
      ],
      "text/plain": [
       "           Date     Open     High      Low    Close         Volume  \\\n",
       "0  Aug 07, 2017  3212.78  3397.68  3180.89  3378.94  1,482,280,000   \n",
       "1  Aug 06, 2017  3257.61  3293.29  3155.60  3213.94  1,105,030,000   \n",
       "2  Aug 05, 2017  2897.63  3290.01  2874.83  3252.91  1,945,700,000   \n",
       "3  Aug 04, 2017  2806.93  2899.33  2743.72  2895.89  1,002,120,000   \n",
       "4  Aug 03, 2017  2709.56  2813.31  2685.14  2804.73    804,797,000   \n",
       "\n",
       "       Market Cap  \n",
       "0  52,987,300,000  \n",
       "1  53,720,900,000  \n",
       "2  47,778,200,000  \n",
       "3  46,276,200,000  \n",
       "4  44,666,400,000  "
      ]
     },
     "execution_count": 9,
     "metadata": {},
     "output_type": "execute_result"
    }
   ],
   "source": [
    "#Visualisation\n",
    "data.head()"
   ]
  },
  {
   "cell_type": "code",
   "execution_count": 18,
   "metadata": {},
   "outputs": [
    {
     "data": {
      "text/plain": [
       "<seaborn.axisgrid.FacetGrid at 0x1986e58f0a0>"
      ]
     },
     "execution_count": 18,
     "metadata": {},
     "output_type": "execute_result"
    },
    {
     "data": {
      "image/png": "[encoded data removed]",
      "text/plain": [
       "<Figure size 360x360 with 1 Axes>"
      ]
     },
     "metadata": {
      "needs_background": "light"
     },
     "output_type": "display_data"
    }
   ],
   "source": [
    "sns.relplot(x='Market Cap', y='High',data=data)"
   ]
  },
  {
   "cell_type": "code",
   "execution_count": 19,
   "metadata": {},
   "outputs": [
    {
     "data": {
      "text/plain": [
       "<seaborn.axisgrid.FacetGrid at 0x1986e4ceb20>"
      ]
     },
     "execution_count": 19,
     "metadata": {},
     "output_type": "execute_result"
    },
    {
     "data": {
      "image/png": "[encoded data removed]",
      "text/plain": [
       "<Figure size 360x360 with 1 Axes>"
      ]
     },
     "metadata": {
      "needs_background": "light"
     },
     "output_type": "display_data"
    }
   ],
   "source": [
    "sns.relplot(x='Market Cap', y='Low',data=data)"
   ]
  },
  {
   "cell_type": "code",
   "execution_count": 20,
   "metadata": {},
   "outputs": [
    {
     "data": {
      "text/plain": [
       "<seaborn.axisgrid.FacetGrid at 0x1986e63be50>"
      ]
     },
     "execution_count": 20,
     "metadata": {},
     "output_type": "execute_result"
    },
    {
     "data": {
      "image/png": "[encoded data removed]",
      "text/plain": [
       "<Figure size 360x360 with 1 Axes>"
      ]
     },
     "metadata": {
      "needs_background": "light"
     },
     "output_type": "display_data"
    }
   ],
   "source": [
    "sns.relplot(x='Market Cap', y='Close',data=data)"
   ]
  },
  {
   "cell_type": "code",
   "execution_count": 21,
   "metadata": {},
   "outputs": [
    {
     "data": {
      "text/plain": [
       "<seaborn.axisgrid.FacetGrid at 0x1986e5bab80>"
      ]
     },
     "execution_count": 21,
     "metadata": {},
     "output_type": "execute_result"
    },
    {
     "data": {
      "image/png": "[encoded data removed]",
      "text/plain": [
       "<Figure size 360x360 with 1 Axes>"
      ]
     },
     "metadata": {
      "needs_background": "light"
     },
     "output_type": "display_data"
    }
   ],
   "source": [
    "sns.relplot(x='Market Cap', y='Volume',data=data)"
   ]
  },
  {
   "cell_type": "code",
   "execution_count": 22,
   "metadata": {},
   "outputs": [
    {
     "data": {
      "text/plain": [
       "<seaborn.axisgrid.FacetGrid at 0x1986e4cedc0>"
      ]
     },
     "execution_count": 22,
     "metadata": {},
     "output_type": "execute_result"
    },
    {
     "data": {
      "image/png": "[encoded data removed]",
      "text/plain": [
       "<Figure size 360x360 with 1 Axes>"
      ]
     },
     "metadata": {
      "needs_background": "light"
     },
     "output_type": "display_data"
    }
   ],
   "source": [
    "sns.relplot(x='Market Cap', y='Date',data=data)"
   ]
  },
  {
   "cell_type": "code",
   "execution_count": 23,
   "metadata": {},
   "outputs": [
    {
     "data": {
      "text/plain": [
       "<seaborn.axisgrid.FacetGrid at 0x1986e595670>"
      ]
     },
     "execution_count": 23,
     "metadata": {},
     "output_type": "execute_result"
    },
    {
     "data": {
      "image/png": "[encoded data removed]",
      "text/plain": [
       "<Figure size 360x360 with 1 Axes>"
      ]
     },
     "metadata": {
      "needs_background": "light"
     },
     "output_type": "display_data"
    }
   ],
   "source": [
    "sns.relplot(x='Market Cap', y='Open',data=data)"
   ]
  },
  {
   "cell_type": "code",
   "execution_count": 48,
   "metadata": {},
   "outputs": [
    {
     "data": {
      "text/html": [
       "<div>\n",
       "<style scoped>\n",
       "    .dataframe tbody tr th:only-of-type {\n",
       "        vertical-align: middle;\n",
       "    }\n",
       "\n",
       "    .dataframe tbody tr th {\n",
       "        vertical-align: top;\n",
       "    }\n",
       "\n",
       "    .dataframe thead th {\n",
       "        text-align: right;\n",
       "    }\n",
       "</style>\n",
       "<table border=\"1\" class=\"dataframe\">\n",
       "  <thead>\n",
       "    <tr style=\"text-align: right;\">\n",
       "      <th></th>\n",
       "      <th>Date</th>\n",
       "      <th>Open</th>\n",
       "      <th>High</th>\n",
       "      <th>Low</th>\n",
       "      <th>Close</th>\n",
       "      <th>Volume</th>\n",
       "      <th>Market Cap</th>\n",
       "    </tr>\n",
       "  </thead>\n",
       "  <tbody>\n",
       "    <tr>\n",
       "      <th>0</th>\n",
       "      <td>72017.0</td>\n",
       "      <td>3212.78</td>\n",
       "      <td>3397.68</td>\n",
       "      <td>3180.89</td>\n",
       "      <td>3378.94</td>\n",
       "      <td>1.482280e+09</td>\n",
       "      <td>5.298730e+10</td>\n",
       "    </tr>\n",
       "    <tr>\n",
       "      <th>1</th>\n",
       "      <td>62017.0</td>\n",
       "      <td>3257.61</td>\n",
       "      <td>3293.29</td>\n",
       "      <td>3155.60</td>\n",
       "      <td>3213.94</td>\n",
       "      <td>1.105030e+09</td>\n",
       "      <td>5.372090e+10</td>\n",
       "    </tr>\n",
       "    <tr>\n",
       "      <th>2</th>\n",
       "      <td>52017.0</td>\n",
       "      <td>2897.63</td>\n",
       "      <td>3290.01</td>\n",
       "      <td>2874.83</td>\n",
       "      <td>3252.91</td>\n",
       "      <td>1.945700e+09</td>\n",
       "      <td>4.777820e+10</td>\n",
       "    </tr>\n",
       "    <tr>\n",
       "      <th>3</th>\n",
       "      <td>42017.0</td>\n",
       "      <td>2806.93</td>\n",
       "      <td>2899.33</td>\n",
       "      <td>2743.72</td>\n",
       "      <td>2895.89</td>\n",
       "      <td>1.002120e+09</td>\n",
       "      <td>4.627620e+10</td>\n",
       "    </tr>\n",
       "    <tr>\n",
       "      <th>4</th>\n",
       "      <td>32017.0</td>\n",
       "      <td>2709.56</td>\n",
       "      <td>2813.31</td>\n",
       "      <td>2685.14</td>\n",
       "      <td>2804.73</td>\n",
       "      <td>8.047970e+08</td>\n",
       "      <td>4.466640e+10</td>\n",
       "    </tr>\n",
       "    <tr>\n",
       "      <th>5</th>\n",
       "      <td>22017.0</td>\n",
       "      <td>2727.13</td>\n",
       "      <td>2762.53</td>\n",
       "      <td>2668.59</td>\n",
       "      <td>2710.67</td>\n",
       "      <td>1.094950e+09</td>\n",
       "      <td>4.495080e+10</td>\n",
       "    </tr>\n",
       "    <tr>\n",
       "      <th>6</th>\n",
       "      <td>12017.0</td>\n",
       "      <td>2871.30</td>\n",
       "      <td>2921.35</td>\n",
       "      <td>2685.61</td>\n",
       "      <td>2718.26</td>\n",
       "      <td>1.324670e+09</td>\n",
       "      <td>4.732180e+10</td>\n",
       "    </tr>\n",
       "  </tbody>\n",
       "</table>\n",
       "</div>"
      ],
      "text/plain": [
       "      Date     Open     High      Low    Close        Volume    Market Cap\n",
       "0  72017.0  3212.78  3397.68  3180.89  3378.94  1.482280e+09  5.298730e+10\n",
       "1  62017.0  3257.61  3293.29  3155.60  3213.94  1.105030e+09  5.372090e+10\n",
       "2  52017.0  2897.63  3290.01  2874.83  3252.91  1.945700e+09  4.777820e+10\n",
       "3  42017.0  2806.93  2899.33  2743.72  2895.89  1.002120e+09  4.627620e+10\n",
       "4  32017.0  2709.56  2813.31  2685.14  2804.73  8.047970e+08  4.466640e+10\n",
       "5  22017.0  2727.13  2762.53  2668.59  2710.67  1.094950e+09  4.495080e+10\n",
       "6  12017.0  2871.30  2921.35  2685.61  2718.26  1.324670e+09  4.732180e+10"
      ]
     },
     "execution_count": 48,
     "metadata": {},
     "output_type": "execute_result"
    }
   ],
   "source": [
    "#Modellig\n",
    "from sklearn.linear_model import LinearRegression\n",
    "from sklearn.model_selection import train_test_split\n",
    "#Converting values to float\n",
    "data = data.replace('[^\\d.]', '',regex=True).astype(float)\n",
    "data"
   ]
  },
  {
   "cell_type": "code",
   "execution_count": 49,
   "metadata": {},
   "outputs": [],
   "source": [
    "train = data.drop(['Market Cap', 'Date', 'Volume'],axis=1)\n",
    "test = data['Market Cap']"
   ]
  },
  {
   "cell_type": "code",
   "execution_count": 50,
   "metadata": {},
   "outputs": [],
   "source": [
    "x_train, x_test, y_train, y_test = train_test_split(train, test, test_size=0.3, random_state=2)"
   ]
  },
  {
   "cell_type": "code",
   "execution_count": 51,
   "metadata": {},
   "outputs": [],
   "source": [
    "regr = LinearRegression()"
   ]
  },
  {
   "cell_type": "code",
   "execution_count": 52,
   "metadata": {},
   "outputs": [
    {
     "data": {
      "text/plain": [
       "LinearRegression()"
      ]
     },
     "execution_count": 52,
     "metadata": {},
     "output_type": "execute_result"
    }
   ],
   "source": [
    "regr.fit(x_train, y_train)"
   ]
  },
  {
   "cell_type": "code",
   "execution_count": 53,
   "metadata": {},
   "outputs": [],
   "source": [
    "pred = regr.predict(x_test)"
   ]
  },
  {
   "cell_type": "code",
   "execution_count": 54,
   "metadata": {},
   "outputs": [
    {
     "data": {
      "text/plain": [
       "array([4.46292963e+10, 5.36843064e+10, 4.60447948e+10])"
      ]
     },
     "execution_count": 54,
     "metadata": {},
     "output_type": "execute_result"
    }
   ],
   "source": [
    "pred"
   ]
  },
  {
   "cell_type": "code",
   "execution_count": 55,
   "metadata": {},
   "outputs": [
    {
     "data": {
      "text/plain": [
       "0.9987943307104924"
      ]
     },
     "execution_count": 55,
     "metadata": {},
     "output_type": "execute_result"
    }
   ],
   "source": [
    "regr.score(x_test, y_test)"
   ]
  },
  {
   "cell_type": "code",
   "execution_count": null,
   "metadata": {},
   "outputs": [],
   "source": []
  }
 ],
 "metadata": {
  "kernelspec": {
   "display_name": "Python 3",
   "language": "python",
   "name": "python3"
  },
  "language_info": {
   "codemirror_mode": {
    "name": "ipython",
    "version": 3
   },
   "file_extension": ".py",
   "mimetype": "text/x-python",
   "name": "python",
   "nbconvert_exporter": "python",
   "pygments_lexer": "ipython3",
   "version": "3.8.5"
  }
 },
 "nbformat": 4,
 "nbformat_minor": 4
}
